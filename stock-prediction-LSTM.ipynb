{
 "cells": [
  {
   "cell_type": "markdown",
   "id": "1c9eb1f5-3c87-41f2-9d98-fbb7b062944a",
   "metadata": {},
   "source": [
    "# LSTMの学習"
   ]
  },
  {
   "cell_type": "markdown",
   "id": "fa2ced92-f344-4e22-bd9f-ddce58fa97cf",
   "metadata": {},
   "source": [
    "https://www.youtube.com/watch?v=CbTU92pbDKw"
   ]
  },
  {
   "cell_type": "code",
   "execution_count": 1,
   "id": "05aa556b-782f-44cf-826e-299014b9ab1b",
   "metadata": {},
   "outputs": [],
   "source": [
    "import pandas as pd"
   ]
  },
  {
   "cell_type": "code",
   "execution_count": 2,
   "id": "f4548f17-3a74-4a2c-a9ed-3733f9df96c4",
   "metadata": {},
   "outputs": [],
   "source": [
    "import numpy as np"
   ]
  },
  {
   "cell_type": "code",
   "execution_count": 3,
   "id": "46b4c933-eb84-4330-bab3-d2487dce5e1d",
   "metadata": {},
   "outputs": [],
   "source": [
    "df_raw = pd.read_csv('MSFT.csv')"
   ]
  },
  {
   "cell_type": "code",
   "execution_count": 4,
   "id": "3932301d-9388-4a3a-9813-e45260746394",
   "metadata": {},
   "outputs": [
    {
     "data": {
      "text/html": [
       "<div>\n",
       "<style scoped>\n",
       "    .dataframe tbody tr th:only-of-type {\n",
       "        vertical-align: middle;\n",
       "    }\n",
       "\n",
       "    .dataframe tbody tr th {\n",
       "        vertical-align: top;\n",
       "    }\n",
       "\n",
       "    .dataframe thead th {\n",
       "        text-align: right;\n",
       "    }\n",
       "</style>\n",
       "<table border=\"1\" class=\"dataframe\">\n",
       "  <thead>\n",
       "    <tr style=\"text-align: right;\">\n",
       "      <th></th>\n",
       "      <th>Date</th>\n",
       "      <th>Open</th>\n",
       "      <th>High</th>\n",
       "      <th>Low</th>\n",
       "      <th>Close</th>\n",
       "      <th>Adj Close</th>\n",
       "      <th>Volume</th>\n",
       "    </tr>\n",
       "  </thead>\n",
       "  <tbody>\n",
       "    <tr>\n",
       "      <th>0</th>\n",
       "      <td>1986-03-13</td>\n",
       "      <td>0.088542</td>\n",
       "      <td>0.101563</td>\n",
       "      <td>0.088542</td>\n",
       "      <td>0.097222</td>\n",
       "      <td>0.061109</td>\n",
       "      <td>1031788800</td>\n",
       "    </tr>\n",
       "    <tr>\n",
       "      <th>1</th>\n",
       "      <td>1986-03-14</td>\n",
       "      <td>0.097222</td>\n",
       "      <td>0.102431</td>\n",
       "      <td>0.097222</td>\n",
       "      <td>0.100694</td>\n",
       "      <td>0.063292</td>\n",
       "      <td>308160000</td>\n",
       "    </tr>\n",
       "    <tr>\n",
       "      <th>2</th>\n",
       "      <td>1986-03-17</td>\n",
       "      <td>0.100694</td>\n",
       "      <td>0.103299</td>\n",
       "      <td>0.100694</td>\n",
       "      <td>0.102431</td>\n",
       "      <td>0.064384</td>\n",
       "      <td>133171200</td>\n",
       "    </tr>\n",
       "    <tr>\n",
       "      <th>3</th>\n",
       "      <td>1986-03-18</td>\n",
       "      <td>0.102431</td>\n",
       "      <td>0.103299</td>\n",
       "      <td>0.098958</td>\n",
       "      <td>0.099826</td>\n",
       "      <td>0.062746</td>\n",
       "      <td>67766400</td>\n",
       "    </tr>\n",
       "    <tr>\n",
       "      <th>4</th>\n",
       "      <td>1986-03-19</td>\n",
       "      <td>0.099826</td>\n",
       "      <td>0.100694</td>\n",
       "      <td>0.097222</td>\n",
       "      <td>0.098090</td>\n",
       "      <td>0.061655</td>\n",
       "      <td>47894400</td>\n",
       "    </tr>\n",
       "    <tr>\n",
       "      <th>...</th>\n",
       "      <td>...</td>\n",
       "      <td>...</td>\n",
       "      <td>...</td>\n",
       "      <td>...</td>\n",
       "      <td>...</td>\n",
       "      <td>...</td>\n",
       "      <td>...</td>\n",
       "    </tr>\n",
       "    <tr>\n",
       "      <th>9133</th>\n",
       "      <td>2022-06-07</td>\n",
       "      <td>266.640015</td>\n",
       "      <td>273.130005</td>\n",
       "      <td>265.940002</td>\n",
       "      <td>272.500000</td>\n",
       "      <td>272.500000</td>\n",
       "      <td>22860700</td>\n",
       "    </tr>\n",
       "    <tr>\n",
       "      <th>9134</th>\n",
       "      <td>2022-06-08</td>\n",
       "      <td>271.709991</td>\n",
       "      <td>273.000000</td>\n",
       "      <td>269.609985</td>\n",
       "      <td>270.410004</td>\n",
       "      <td>270.410004</td>\n",
       "      <td>17372300</td>\n",
       "    </tr>\n",
       "    <tr>\n",
       "      <th>9135</th>\n",
       "      <td>2022-06-09</td>\n",
       "      <td>267.779999</td>\n",
       "      <td>272.709991</td>\n",
       "      <td>264.630005</td>\n",
       "      <td>264.790009</td>\n",
       "      <td>264.790009</td>\n",
       "      <td>26439700</td>\n",
       "    </tr>\n",
       "    <tr>\n",
       "      <th>9136</th>\n",
       "      <td>2022-06-10</td>\n",
       "      <td>260.579987</td>\n",
       "      <td>260.579987</td>\n",
       "      <td>252.529999</td>\n",
       "      <td>252.990005</td>\n",
       "      <td>252.990005</td>\n",
       "      <td>31422800</td>\n",
       "    </tr>\n",
       "    <tr>\n",
       "      <th>9137</th>\n",
       "      <td>2022-06-13</td>\n",
       "      <td>245.110001</td>\n",
       "      <td>249.020004</td>\n",
       "      <td>241.529999</td>\n",
       "      <td>242.259995</td>\n",
       "      <td>242.259995</td>\n",
       "      <td>46076401</td>\n",
       "    </tr>\n",
       "  </tbody>\n",
       "</table>\n",
       "<p>9138 rows × 7 columns</p>\n",
       "</div>"
      ],
      "text/plain": [
       "            Date        Open        High         Low       Close   Adj Close  \\\n",
       "0     1986-03-13    0.088542    0.101563    0.088542    0.097222    0.061109   \n",
       "1     1986-03-14    0.097222    0.102431    0.097222    0.100694    0.063292   \n",
       "2     1986-03-17    0.100694    0.103299    0.100694    0.102431    0.064384   \n",
       "3     1986-03-18    0.102431    0.103299    0.098958    0.099826    0.062746   \n",
       "4     1986-03-19    0.099826    0.100694    0.097222    0.098090    0.061655   \n",
       "...          ...         ...         ...         ...         ...         ...   \n",
       "9133  2022-06-07  266.640015  273.130005  265.940002  272.500000  272.500000   \n",
       "9134  2022-06-08  271.709991  273.000000  269.609985  270.410004  270.410004   \n",
       "9135  2022-06-09  267.779999  272.709991  264.630005  264.790009  264.790009   \n",
       "9136  2022-06-10  260.579987  260.579987  252.529999  252.990005  252.990005   \n",
       "9137  2022-06-13  245.110001  249.020004  241.529999  242.259995  242.259995   \n",
       "\n",
       "          Volume  \n",
       "0     1031788800  \n",
       "1      308160000  \n",
       "2      133171200  \n",
       "3       67766400  \n",
       "4       47894400  \n",
       "...          ...  \n",
       "9133    22860700  \n",
       "9134    17372300  \n",
       "9135    26439700  \n",
       "9136    31422800  \n",
       "9137    46076401  \n",
       "\n",
       "[9138 rows x 7 columns]"
      ]
     },
     "execution_count": 4,
     "metadata": {},
     "output_type": "execute_result"
    }
   ],
   "source": [
    "df_raw"
   ]
  },
  {
   "cell_type": "code",
   "execution_count": 5,
   "id": "e1e1d11a-5072-4882-9cb4-10c9fa39bb54",
   "metadata": {},
   "outputs": [],
   "source": [
    "df = df_raw[['Date', 'Close']]"
   ]
  },
  {
   "cell_type": "code",
   "execution_count": 6,
   "id": "0a1009e7-6133-48d5-8243-56f1fdc28cca",
   "metadata": {},
   "outputs": [],
   "source": [
    "import datetime"
   ]
  },
  {
   "cell_type": "code",
   "execution_count": 7,
   "id": "bfe60165-2ba1-4d05-bb4f-36f15bd7b0a2",
   "metadata": {},
   "outputs": [],
   "source": [
    "def str_to_datetime(s):\n",
    "    split = s.split('-')\n",
    "    year, month, day = int(split[0]), int(split[1]), int(split[2])\n",
    "    return datetime.datetime(year=year, month=month, day=day)"
   ]
  },
  {
   "cell_type": "code",
   "execution_count": 8,
   "id": "4c786cb9-8141-47f9-95b0-300d1ce0c9ed",
   "metadata": {},
   "outputs": [
    {
     "data": {
      "text/plain": [
       "datetime.datetime(1986, 3, 19, 0, 0)"
      ]
     },
     "execution_count": 8,
     "metadata": {},
     "output_type": "execute_result"
    }
   ],
   "source": [
    "datetime_object = str_to_datetime('1986-03-19')\n",
    "datetime_object"
   ]
  },
  {
   "cell_type": "code",
   "execution_count": 9,
   "id": "ca52ea08-4233-4552-b48a-8bf63410a6c6",
   "metadata": {},
   "outputs": [
    {
     "data": {
      "text/html": [
       "<div>\n",
       "<style scoped>\n",
       "    .dataframe tbody tr th:only-of-type {\n",
       "        vertical-align: middle;\n",
       "    }\n",
       "\n",
       "    .dataframe tbody tr th {\n",
       "        vertical-align: top;\n",
       "    }\n",
       "\n",
       "    .dataframe thead th {\n",
       "        text-align: right;\n",
       "    }\n",
       "</style>\n",
       "<table border=\"1\" class=\"dataframe\">\n",
       "  <thead>\n",
       "    <tr style=\"text-align: right;\">\n",
       "      <th></th>\n",
       "      <th>Date</th>\n",
       "      <th>Close</th>\n",
       "    </tr>\n",
       "  </thead>\n",
       "  <tbody>\n",
       "    <tr>\n",
       "      <th>0</th>\n",
       "      <td>1986-03-13</td>\n",
       "      <td>0.097222</td>\n",
       "    </tr>\n",
       "    <tr>\n",
       "      <th>1</th>\n",
       "      <td>1986-03-14</td>\n",
       "      <td>0.100694</td>\n",
       "    </tr>\n",
       "    <tr>\n",
       "      <th>2</th>\n",
       "      <td>1986-03-17</td>\n",
       "      <td>0.102431</td>\n",
       "    </tr>\n",
       "    <tr>\n",
       "      <th>3</th>\n",
       "      <td>1986-03-18</td>\n",
       "      <td>0.099826</td>\n",
       "    </tr>\n",
       "    <tr>\n",
       "      <th>4</th>\n",
       "      <td>1986-03-19</td>\n",
       "      <td>0.098090</td>\n",
       "    </tr>\n",
       "    <tr>\n",
       "      <th>...</th>\n",
       "      <td>...</td>\n",
       "      <td>...</td>\n",
       "    </tr>\n",
       "    <tr>\n",
       "      <th>9133</th>\n",
       "      <td>2022-06-07</td>\n",
       "      <td>272.500000</td>\n",
       "    </tr>\n",
       "    <tr>\n",
       "      <th>9134</th>\n",
       "      <td>2022-06-08</td>\n",
       "      <td>270.410004</td>\n",
       "    </tr>\n",
       "    <tr>\n",
       "      <th>9135</th>\n",
       "      <td>2022-06-09</td>\n",
       "      <td>264.790009</td>\n",
       "    </tr>\n",
       "    <tr>\n",
       "      <th>9136</th>\n",
       "      <td>2022-06-10</td>\n",
       "      <td>252.990005</td>\n",
       "    </tr>\n",
       "    <tr>\n",
       "      <th>9137</th>\n",
       "      <td>2022-06-13</td>\n",
       "      <td>242.259995</td>\n",
       "    </tr>\n",
       "  </tbody>\n",
       "</table>\n",
       "<p>9138 rows × 2 columns</p>\n",
       "</div>"
      ],
      "text/plain": [
       "            Date       Close\n",
       "0     1986-03-13    0.097222\n",
       "1     1986-03-14    0.100694\n",
       "2     1986-03-17    0.102431\n",
       "3     1986-03-18    0.099826\n",
       "4     1986-03-19    0.098090\n",
       "...          ...         ...\n",
       "9133  2022-06-07  272.500000\n",
       "9134  2022-06-08  270.410004\n",
       "9135  2022-06-09  264.790009\n",
       "9136  2022-06-10  252.990005\n",
       "9137  2022-06-13  242.259995\n",
       "\n",
       "[9138 rows x 2 columns]"
      ]
     },
     "execution_count": 9,
     "metadata": {},
     "output_type": "execute_result"
    }
   ],
   "source": [
    "df"
   ]
  },
  {
   "cell_type": "code",
   "execution_count": 10,
   "id": "da7fc4c5-8183-4dd9-ac07-3d29010f8845",
   "metadata": {},
   "outputs": [
    {
     "name": "stderr",
     "output_type": "stream",
     "text": [
      "C:\\Users\\09de1\\AppData\\Local\\Temp\\ipykernel_16404\\2565755782.py:1: SettingWithCopyWarning: \n",
      "A value is trying to be set on a copy of a slice from a DataFrame.\n",
      "Try using .loc[row_indexer,col_indexer] = value instead\n",
      "\n",
      "See the caveats in the documentation: https://pandas.pydata.org/pandas-docs/stable/user_guide/indexing.html#returning-a-view-versus-a-copy\n",
      "  df['Date'] = df['Date'].apply(str_to_datetime)\n"
     ]
    },
    {
     "data": {
      "text/plain": [
       "0      1986-03-13\n",
       "1      1986-03-14\n",
       "2      1986-03-17\n",
       "3      1986-03-18\n",
       "4      1986-03-19\n",
       "          ...    \n",
       "9133   2022-06-07\n",
       "9134   2022-06-08\n",
       "9135   2022-06-09\n",
       "9136   2022-06-10\n",
       "9137   2022-06-13\n",
       "Name: Date, Length: 9138, dtype: datetime64[ns]"
      ]
     },
     "execution_count": 10,
     "metadata": {},
     "output_type": "execute_result"
    }
   ],
   "source": [
    "df['Date'] = df['Date'].apply(str_to_datetime)\n",
    "df['Date']"
   ]
  },
  {
   "cell_type": "code",
   "execution_count": 11,
   "id": "c5740a39-d6a6-4247-8aff-5e2d2cf72dbc",
   "metadata": {},
   "outputs": [
    {
     "data": {
      "text/html": [
       "<div>\n",
       "<style scoped>\n",
       "    .dataframe tbody tr th:only-of-type {\n",
       "        vertical-align: middle;\n",
       "    }\n",
       "\n",
       "    .dataframe tbody tr th {\n",
       "        vertical-align: top;\n",
       "    }\n",
       "\n",
       "    .dataframe thead th {\n",
       "        text-align: right;\n",
       "    }\n",
       "</style>\n",
       "<table border=\"1\" class=\"dataframe\">\n",
       "  <thead>\n",
       "    <tr style=\"text-align: right;\">\n",
       "      <th></th>\n",
       "      <th>Close</th>\n",
       "    </tr>\n",
       "    <tr>\n",
       "      <th>Date</th>\n",
       "      <th></th>\n",
       "    </tr>\n",
       "  </thead>\n",
       "  <tbody>\n",
       "    <tr>\n",
       "      <th>1986-03-13</th>\n",
       "      <td>0.097222</td>\n",
       "    </tr>\n",
       "    <tr>\n",
       "      <th>1986-03-14</th>\n",
       "      <td>0.100694</td>\n",
       "    </tr>\n",
       "    <tr>\n",
       "      <th>1986-03-17</th>\n",
       "      <td>0.102431</td>\n",
       "    </tr>\n",
       "    <tr>\n",
       "      <th>1986-03-18</th>\n",
       "      <td>0.099826</td>\n",
       "    </tr>\n",
       "    <tr>\n",
       "      <th>1986-03-19</th>\n",
       "      <td>0.098090</td>\n",
       "    </tr>\n",
       "    <tr>\n",
       "      <th>...</th>\n",
       "      <td>...</td>\n",
       "    </tr>\n",
       "    <tr>\n",
       "      <th>2022-06-07</th>\n",
       "      <td>272.500000</td>\n",
       "    </tr>\n",
       "    <tr>\n",
       "      <th>2022-06-08</th>\n",
       "      <td>270.410004</td>\n",
       "    </tr>\n",
       "    <tr>\n",
       "      <th>2022-06-09</th>\n",
       "      <td>264.790009</td>\n",
       "    </tr>\n",
       "    <tr>\n",
       "      <th>2022-06-10</th>\n",
       "      <td>252.990005</td>\n",
       "    </tr>\n",
       "    <tr>\n",
       "      <th>2022-06-13</th>\n",
       "      <td>242.259995</td>\n",
       "    </tr>\n",
       "  </tbody>\n",
       "</table>\n",
       "<p>9138 rows × 1 columns</p>\n",
       "</div>"
      ],
      "text/plain": [
       "                 Close\n",
       "Date                  \n",
       "1986-03-13    0.097222\n",
       "1986-03-14    0.100694\n",
       "1986-03-17    0.102431\n",
       "1986-03-18    0.099826\n",
       "1986-03-19    0.098090\n",
       "...                ...\n",
       "2022-06-07  272.500000\n",
       "2022-06-08  270.410004\n",
       "2022-06-09  264.790009\n",
       "2022-06-10  252.990005\n",
       "2022-06-13  242.259995\n",
       "\n",
       "[9138 rows x 1 columns]"
      ]
     },
     "execution_count": 11,
     "metadata": {},
     "output_type": "execute_result"
    }
   ],
   "source": [
    "df.index = df.pop('Date')\n",
    "df"
   ]
  },
  {
   "cell_type": "code",
   "execution_count": 12,
   "id": "95b93906-5e80-41da-b943-c050e8bd30cd",
   "metadata": {},
   "outputs": [],
   "source": [
    "import matplotlib.pyplot as plt"
   ]
  },
  {
   "cell_type": "code",
   "execution_count": 13,
   "id": "457047f6-5654-442b-a881-11f29e11fc01",
   "metadata": {},
   "outputs": [
    {
     "data": {
      "text/plain": [
       "[<matplotlib.lines.Line2D at 0x203c696a220>]"
      ]
     },
     "execution_count": 13,
     "metadata": {},
     "output_type": "execute_result"
    },
    {
     "data": {
      "image/png": "[encoded data removed]",
      "text/plain": [
       "<Figure size 432x288 with 1 Axes>"
      ]
     },
     "metadata": {
      "needs_background": "light"
     },
     "output_type": "display_data"
    }
   ],
   "source": [
    "plt.plot(df.index, df['Close'])"
   ]
  },
  {
   "cell_type": "code",
   "execution_count": 14,
   "id": "012732bc-e653-4222-a4fa-cf3f3b3bf3d6",
   "metadata": {},
   "outputs": [],
   "source": [
    "def df_to_windowed_df(dataframe, first_date_str, last_date_str, n=3):\n",
    "    first_date = str_to_datetime(first_date_str)\n",
    "    last_date = str_to_datetime(last_date_str)\n",
    "    \n",
    "    target_date = first_date\n",
    "    \n",
    "    dates = []\n",
    "    X, Y = [], []\n",
    "    \n",
    "    last_time = False\n",
    "    while True:\n",
    "        df_subset = dataframe.loc[:target_date].tail(n+1)\n",
    "        \n",
    "        if len(df_subset) != n+1:\n",
    "            print(f'Error: Window of size {n} is too large for date {target_date}')\n",
    "            return\n",
    "        \n",
    "        values = df_subset['Close'].to_numpy()\n",
    "        x, y = values[:-1], values[-1]\n",
    "        \n",
    "        dates.append(target_date)\n",
    "        X.append(x)\n",
    "        Y.append(y)\n",
    "        \n",
    "        next_week = dataframe.loc[target_date:target_date+datetime.timedelta(days=7)]\n",
    "        next_datetime_str = str(next_week.head(2).tail(1).index.values[0])\n",
    "        next_date_str = next_datetime_str.split('T')[0]\n",
    "        year_month_day = next_date_str.split('-')\n",
    "        year, month, day = year_month_day\n",
    "        next_date = datetime.datetime(day=int(day), month=int(month), year=int(year))\n",
    "        \n",
    "        if last_time:\n",
    "            break\n",
    "        \n",
    "        target_date = next_date\n",
    "        \n",
    "        if target_date == last_date:\n",
    "            last_time = True\n",
    "            \n",
    "    ret_df = pd.DataFrame({})\n",
    "    ret_df['Target Date'] = dates\n",
    "\n",
    "    X = np.array(X)\n",
    "    for i in range(0, n):\n",
    "        X[:,i]\n",
    "        ret_df[f'Target-{n-i}'] = X[:, i]\n",
    "\n",
    "    ret_df['Target'] = Y\n",
    "\n",
    "    return ret_df\n",
    "\n",
    "# Start day second time around: '2021-03-25'\n",
    "windowed_df = df_to_windowed_df(df,\n",
    "                               '2021-03-25',\n",
    "                               '2022-03-23',\n",
    "                               n=3)"
   ]
  },
  {
   "cell_type": "code",
   "execution_count": 15,
   "id": "302d99b4-6438-4b7a-bf63-6d6e3d63d204",
   "metadata": {},
   "outputs": [
    {
     "data": {
      "text/html": [
       "<div>\n",
       "<style scoped>\n",
       "    .dataframe tbody tr th:only-of-type {\n",
       "        vertical-align: middle;\n",
       "    }\n",
       "\n",
       "    .dataframe tbody tr th {\n",
       "        vertical-align: top;\n",
       "    }\n",
       "\n",
       "    .dataframe thead th {\n",
       "        text-align: right;\n",
       "    }\n",
       "</style>\n",
       "<table border=\"1\" class=\"dataframe\">\n",
       "  <thead>\n",
       "    <tr style=\"text-align: right;\">\n",
       "      <th></th>\n",
       "      <th>Target Date</th>\n",
       "      <th>Target-3</th>\n",
       "      <th>Target-2</th>\n",
       "      <th>Target-1</th>\n",
       "      <th>Target</th>\n",
       "    </tr>\n",
       "  </thead>\n",
       "  <tbody>\n",
       "    <tr>\n",
       "      <th>0</th>\n",
       "      <td>2021-03-25</td>\n",
       "      <td>235.990005</td>\n",
       "      <td>237.580002</td>\n",
       "      <td>235.460007</td>\n",
       "      <td>232.339996</td>\n",
       "    </tr>\n",
       "    <tr>\n",
       "      <th>1</th>\n",
       "      <td>2021-03-26</td>\n",
       "      <td>237.580002</td>\n",
       "      <td>235.460007</td>\n",
       "      <td>232.339996</td>\n",
       "      <td>236.479996</td>\n",
       "    </tr>\n",
       "    <tr>\n",
       "      <th>2</th>\n",
       "      <td>2021-03-29</td>\n",
       "      <td>235.460007</td>\n",
       "      <td>232.339996</td>\n",
       "      <td>236.479996</td>\n",
       "      <td>235.240005</td>\n",
       "    </tr>\n",
       "    <tr>\n",
       "      <th>3</th>\n",
       "      <td>2021-03-30</td>\n",
       "      <td>232.339996</td>\n",
       "      <td>236.479996</td>\n",
       "      <td>235.240005</td>\n",
       "      <td>231.850006</td>\n",
       "    </tr>\n",
       "    <tr>\n",
       "      <th>4</th>\n",
       "      <td>2021-03-31</td>\n",
       "      <td>236.479996</td>\n",
       "      <td>235.240005</td>\n",
       "      <td>231.850006</td>\n",
       "      <td>235.770004</td>\n",
       "    </tr>\n",
       "    <tr>\n",
       "      <th>...</th>\n",
       "      <td>...</td>\n",
       "      <td>...</td>\n",
       "      <td>...</td>\n",
       "      <td>...</td>\n",
       "      <td>...</td>\n",
       "    </tr>\n",
       "    <tr>\n",
       "      <th>247</th>\n",
       "      <td>2022-03-17</td>\n",
       "      <td>276.440002</td>\n",
       "      <td>287.149994</td>\n",
       "      <td>294.390015</td>\n",
       "      <td>295.220001</td>\n",
       "    </tr>\n",
       "    <tr>\n",
       "      <th>248</th>\n",
       "      <td>2022-03-18</td>\n",
       "      <td>287.149994</td>\n",
       "      <td>294.390015</td>\n",
       "      <td>295.220001</td>\n",
       "      <td>300.429993</td>\n",
       "    </tr>\n",
       "    <tr>\n",
       "      <th>249</th>\n",
       "      <td>2022-03-21</td>\n",
       "      <td>294.390015</td>\n",
       "      <td>295.220001</td>\n",
       "      <td>300.429993</td>\n",
       "      <td>299.160004</td>\n",
       "    </tr>\n",
       "    <tr>\n",
       "      <th>250</th>\n",
       "      <td>2022-03-22</td>\n",
       "      <td>295.220001</td>\n",
       "      <td>300.429993</td>\n",
       "      <td>299.160004</td>\n",
       "      <td>304.059998</td>\n",
       "    </tr>\n",
       "    <tr>\n",
       "      <th>251</th>\n",
       "      <td>2022-03-23</td>\n",
       "      <td>300.429993</td>\n",
       "      <td>299.160004</td>\n",
       "      <td>304.059998</td>\n",
       "      <td>299.489990</td>\n",
       "    </tr>\n",
       "  </tbody>\n",
       "</table>\n",
       "<p>252 rows × 5 columns</p>\n",
       "</div>"
      ],
      "text/plain": [
       "    Target Date    Target-3    Target-2    Target-1      Target\n",
       "0    2021-03-25  235.990005  237.580002  235.460007  232.339996\n",
       "1    2021-03-26  237.580002  235.460007  232.339996  236.479996\n",
       "2    2021-03-29  235.460007  232.339996  236.479996  235.240005\n",
       "3    2021-03-30  232.339996  236.479996  235.240005  231.850006\n",
       "4    2021-03-31  236.479996  235.240005  231.850006  235.770004\n",
       "..          ...         ...         ...         ...         ...\n",
       "247  2022-03-17  276.440002  287.149994  294.390015  295.220001\n",
       "248  2022-03-18  287.149994  294.390015  295.220001  300.429993\n",
       "249  2022-03-21  294.390015  295.220001  300.429993  299.160004\n",
       "250  2022-03-22  295.220001  300.429993  299.160004  304.059998\n",
       "251  2022-03-23  300.429993  299.160004  304.059998  299.489990\n",
       "\n",
       "[252 rows x 5 columns]"
      ]
     },
     "execution_count": 15,
     "metadata": {},
     "output_type": "execute_result"
    }
   ],
   "source": [
    "windowed_df"
   ]
  },
  {
   "cell_type": "code",
   "execution_count": 16,
   "id": "20f9c89d-be0a-4d05-a820-012a8f128f6b",
   "metadata": {},
   "outputs": [
    {
     "data": {
      "text/html": [
       "<div>\n",
       "<style scoped>\n",
       "    .dataframe tbody tr th:only-of-type {\n",
       "        vertical-align: middle;\n",
       "    }\n",
       "\n",
       "    .dataframe tbody tr th {\n",
       "        vertical-align: top;\n",
       "    }\n",
       "\n",
       "    .dataframe thead th {\n",
       "        text-align: right;\n",
       "    }\n",
       "</style>\n",
       "<table border=\"1\" class=\"dataframe\">\n",
       "  <thead>\n",
       "    <tr style=\"text-align: right;\">\n",
       "      <th></th>\n",
       "      <th>Date</th>\n",
       "      <th>Open</th>\n",
       "      <th>High</th>\n",
       "      <th>Low</th>\n",
       "      <th>Close</th>\n",
       "      <th>Adj Close</th>\n",
       "      <th>Volume</th>\n",
       "    </tr>\n",
       "  </thead>\n",
       "  <tbody>\n",
       "    <tr>\n",
       "      <th>8830</th>\n",
       "      <td>2021-03-25</td>\n",
       "      <td>235.300003</td>\n",
       "      <td>236.940002</td>\n",
       "      <td>231.570007</td>\n",
       "      <td>232.339996</td>\n",
       "      <td>229.927261</td>\n",
       "      <td>34061900</td>\n",
       "    </tr>\n",
       "  </tbody>\n",
       "</table>\n",
       "</div>"
      ],
      "text/plain": [
       "            Date        Open        High         Low       Close   Adj Close  \\\n",
       "8830  2021-03-25  235.300003  236.940002  231.570007  232.339996  229.927261   \n",
       "\n",
       "        Volume  \n",
       "8830  34061900  "
      ]
     },
     "execution_count": 16,
     "metadata": {},
     "output_type": "execute_result"
    }
   ],
   "source": [
    "df_raw[df_raw['Date']=='2021-03-25']"
   ]
  },
  {
   "cell_type": "code",
   "execution_count": 17,
   "id": "a0fdc4e3-849e-4662-866e-920210a19e0d",
   "metadata": {},
   "outputs": [
    {
     "data": {
      "text/plain": [
       "((252,), (252, 3, 1), (252,))"
      ]
     },
     "execution_count": 17,
     "metadata": {},
     "output_type": "execute_result"
    }
   ],
   "source": [
    "def windowed_df_to_date_X_y(windowed_dataframe):\n",
    "    df_as_np = windowed_dataframe.to_numpy()\n",
    "    \n",
    "    dates = df_as_np[:, 0]\n",
    "    \n",
    "    middle_matrix = df_as_np[:, 1: -1]\n",
    "    X = middle_matrix.reshape((len(dates), middle_matrix.shape[1], 1))\n",
    "    \n",
    "    Y = df_as_np[:, -1]\n",
    "    \n",
    "    return dates, X.astype(np.float32), Y.astype(np.float32)\n",
    "\n",
    "dates, X, y = windowed_df_to_date_X_y(windowed_df)\n",
    "dates.shape, X.shape, y.shape"
   ]
  },
  {
   "cell_type": "code",
   "execution_count": 18,
   "id": "d697d84a-89c0-4f07-89da-cfe31078776b",
   "metadata": {},
   "outputs": [],
   "source": [
    "q_80 = int(len(dates) * .8)\n",
    "q_90 = int(len(dates) * .9)\n",
    "\n",
    "dates_train, X_train, y_train = dates[:q_80], X[:q_80], y[:q_80]\n",
    "\n",
    "dates_val, X_val, y_val = dates[q_80:q_90], X[q_80:q_90], y[q_80:q_90]\n",
    "dates_test, X_test, y_test = dates[q_90:], X[q_90:], y[q_90:]"
   ]
  },
  {
   "cell_type": "code",
   "execution_count": 19,
   "id": "fac3c7af-3a80-49ae-b333-775bd879ff82",
   "metadata": {},
   "outputs": [
    {
     "data": {
      "text/plain": [
       "<matplotlib.legend.Legend at 0x203c8ab0be0>"
      ]
     },
     "execution_count": 19,
     "metadata": {},
     "output_type": "execute_result"
    },
    {
     "data": {
      "image/png": "[encoded data removed]",
      "text/plain": [
       "<Figure size 432x288 with 1 Axes>"
      ]
     },
     "metadata": {
      "needs_background": "light"
     },
     "output_type": "display_data"
    }
   ],
   "source": [
    "plt.plot(dates_train, y_train)\n",
    "plt.plot(dates_val, y_val)\n",
    "plt.plot(dates_test, y_test)\n",
    "\n",
    "plt.legend(['Train','Validation','Test'])"
   ]
  },
  {
   "cell_type": "code",
   "execution_count": 20,
   "id": "47206aeb-8f45-4696-9c2e-80a443ca798e",
   "metadata": {
    "tags": []
   },
   "outputs": [
    {
     "name": "stdout",
     "output_type": "stream",
     "text": [
      "Epoch 1/100\n",
      "7/7 [==============================] - 3s 109ms/step - loss: 84294.2422 - mean_absolute_error: 288.5905 - val_loss: 91905.5469 - val_mean_absolute_error: 303.0719\n",
      "Epoch 2/100\n",
      "7/7 [==============================] - 0s 9ms/step - loss: 83936.0859 - mean_absolute_error: 287.9689 - val_loss: 91493.7578 - val_mean_absolute_error: 302.3918\n",
      "Epoch 3/100\n",
      "7/7 [==============================] - 0s 8ms/step - loss: 83562.5859 - mean_absolute_error: 287.3198 - val_loss: 91115.6562 - val_mean_absolute_error: 301.7660\n",
      "Epoch 4/100\n",
      "7/7 [==============================] - 0s 9ms/step - loss: 83178.2891 - mean_absolute_error: 286.6478 - val_loss: 90653.6328 - val_mean_absolute_error: 300.9994\n",
      "Epoch 5/100\n",
      "7/7 [==============================] - 0s 10ms/step - loss: 82680.8594 - mean_absolute_error: 285.7829 - val_loss: 90039.3984 - val_mean_absolute_error: 299.9774\n",
      "Epoch 6/100\n",
      "7/7 [==============================] - 0s 9ms/step - loss: 82051.7578 - mean_absolute_error: 284.6765 - val_loss: 89290.6172 - val_mean_absolute_error: 298.7267\n",
      "Epoch 7/100\n",
      "7/7 [==============================] - 0s 9ms/step - loss: 81205.9531 - mean_absolute_error: 283.1768 - val_loss: 88064.8828 - val_mean_absolute_error: 296.6679\n",
      "Epoch 8/100\n",
      "7/7 [==============================] - 0s 10ms/step - loss: 79956.4609 - mean_absolute_error: 280.9669 - val_loss: 86778.3203 - val_mean_absolute_error: 294.4916\n",
      "Epoch 9/100\n",
      "7/7 [==============================] - 0s 9ms/step - loss: 78643.7344 - mean_absolute_error: 278.6280 - val_loss: 85061.9062 - val_mean_absolute_error: 291.5628\n",
      "Epoch 10/100\n",
      "7/7 [==============================] - 0s 8ms/step - loss: 76820.1719 - mean_absolute_error: 275.3311 - val_loss: 82873.5078 - val_mean_absolute_error: 287.7856\n",
      "Epoch 11/100\n",
      "7/7 [==============================] - 0s 9ms/step - loss: 74656.2188 - mean_absolute_error: 271.3736 - val_loss: 80476.5234 - val_mean_absolute_error: 283.5904\n",
      "Epoch 12/100\n",
      "7/7 [==============================] - 0s 8ms/step - loss: 72246.1094 - mean_absolute_error: 266.8946 - val_loss: 77524.1875 - val_mean_absolute_error: 278.3363\n",
      "Epoch 13/100\n",
      "7/7 [==============================] - 0s 9ms/step - loss: 69157.4453 - mean_absolute_error: 261.0274 - val_loss: 73973.7734 - val_mean_absolute_error: 271.8837\n",
      "Epoch 14/100\n",
      "7/7 [==============================] - 0s 8ms/step - loss: 65659.9922 - mean_absolute_error: 254.2341 - val_loss: 69788.1094 - val_mean_absolute_error: 264.0738\n",
      "Epoch 15/100\n",
      "7/7 [==============================] - 0s 8ms/step - loss: 61230.1836 - mean_absolute_error: 245.3799 - val_loss: 64390.5156 - val_mean_absolute_error: 253.6483\n",
      "Epoch 16/100\n",
      "7/7 [==============================] - 0s 8ms/step - loss: 56149.3633 - mean_absolute_error: 234.7856 - val_loss: 58961.6836 - val_mean_absolute_error: 242.7111\n",
      "Epoch 17/100\n",
      "7/7 [==============================] - 0s 8ms/step - loss: 50922.6250 - mean_absolute_error: 223.4129 - val_loss: 53329.3750 - val_mean_absolute_error: 230.8168\n",
      "Epoch 18/100\n",
      "7/7 [==============================] - 0s 7ms/step - loss: 45581.0117 - mean_absolute_error: 211.1012 - val_loss: 47398.9766 - val_mean_absolute_error: 217.5910\n",
      "Epoch 19/100\n",
      "7/7 [==============================] - 0s 8ms/step - loss: 39744.8516 - mean_absolute_error: 196.7816 - val_loss: 40746.7031 - val_mean_absolute_error: 201.7266\n",
      "Epoch 20/100\n",
      "7/7 [==============================] - 0s 9ms/step - loss: 33622.9062 - mean_absolute_error: 180.5365 - val_loss: 34200.9961 - val_mean_absolute_error: 184.7911\n",
      "Epoch 21/100\n",
      "7/7 [==============================] - 0s 9ms/step - loss: 27571.7617 - mean_absolute_error: 162.7719 - val_loss: 27655.9609 - val_mean_absolute_error: 166.1414\n",
      "Epoch 22/100\n",
      "7/7 [==============================] - 0s 9ms/step - loss: 21906.8086 - mean_absolute_error: 144.2794 - val_loss: 21760.7129 - val_mean_absolute_error: 147.3347\n",
      "Epoch 23/100\n",
      "7/7 [==============================] - 0s 8ms/step - loss: 16692.0703 - mean_absolute_error: 124.9617 - val_loss: 16362.6875 - val_mean_absolute_error: 127.7085\n",
      "Epoch 24/100\n",
      "7/7 [==============================] - 0s 7ms/step - loss: 12050.6953 - mean_absolute_error: 104.9710 - val_loss: 11632.4434 - val_mean_absolute_error: 107.6080\n",
      "Epoch 25/100\n",
      "7/7 [==============================] - 0s 8ms/step - loss: 8380.0332 - mean_absolute_error: 85.6752 - val_loss: 7996.8843 - val_mean_absolute_error: 89.1286\n",
      "Epoch 26/100\n",
      "7/7 [==============================] - 0s 7ms/step - loss: 5608.1587 - mean_absolute_error: 67.6120 - val_loss: 5212.9268 - val_mean_absolute_error: 71.8326\n",
      "Epoch 27/100\n",
      "7/7 [==============================] - 0s 7ms/step - loss: 3599.0042 - mean_absolute_error: 51.0592 - val_loss: 3156.2883 - val_mean_absolute_error: 55.7075\n",
      "Epoch 28/100\n",
      "7/7 [==============================] - 0s 8ms/step - loss: 2288.7695 - mean_absolute_error: 38.5220 - val_loss: 1797.7567 - val_mean_absolute_error: 41.7707\n",
      "Epoch 29/100\n",
      "7/7 [==============================] - 0s 7ms/step - loss: 1531.1097 - mean_absolute_error: 32.1619 - val_loss: 993.1539 - val_mean_absolute_error: 30.6625\n",
      "Epoch 30/100\n",
      "7/7 [==============================] - 0s 7ms/step - loss: 1170.9967 - mean_absolute_error: 28.8417 - val_loss: 550.0278 - val_mean_absolute_error: 22.2949\n",
      "Epoch 31/100\n",
      "7/7 [==============================] - 0s 8ms/step - loss: 1038.7740 - mean_absolute_error: 27.2849 - val_loss: 327.3732 - val_mean_absolute_error: 16.5653\n",
      "Epoch 32/100\n",
      "7/7 [==============================] - 0s 7ms/step - loss: 1018.4382 - mean_absolute_error: 26.9614 - val_loss: 228.5915 - val_mean_absolute_error: 13.4500\n",
      "Epoch 33/100\n",
      "7/7 [==============================] - 0s 7ms/step - loss: 1014.8209 - mean_absolute_error: 26.9453 - val_loss: 203.2333 - val_mean_absolute_error: 12.5358\n",
      "Epoch 34/100\n",
      "7/7 [==============================] - 0s 7ms/step - loss: 1016.8779 - mean_absolute_error: 26.9601 - val_loss: 212.0164 - val_mean_absolute_error: 12.8611\n",
      "Epoch 35/100\n",
      "7/7 [==============================] - 0s 8ms/step - loss: 1013.3926 - mean_absolute_error: 26.9146 - val_loss: 226.8512 - val_mean_absolute_error: 13.3901\n",
      "Epoch 36/100\n",
      "7/7 [==============================] - 0s 7ms/step - loss: 1009.5065 - mean_absolute_error: 26.8617 - val_loss: 246.7038 - val_mean_absolute_error: 14.0641\n",
      "Epoch 37/100\n",
      "7/7 [==============================] - 0s 8ms/step - loss: 1009.6523 - mean_absolute_error: 26.8690 - val_loss: 268.3851 - val_mean_absolute_error: 14.7617\n",
      "Epoch 38/100\n",
      "7/7 [==============================] - 0s 8ms/step - loss: 1008.3671 - mean_absolute_error: 26.8410 - val_loss: 264.8679 - val_mean_absolute_error: 14.6509\n",
      "Epoch 39/100\n",
      "7/7 [==============================] - 0s 8ms/step - loss: 1006.2446 - mean_absolute_error: 26.8086 - val_loss: 301.4343 - val_mean_absolute_error: 15.7719\n",
      "Epoch 40/100\n",
      "7/7 [==============================] - 0s 7ms/step - loss: 1010.3718 - mean_absolute_error: 26.9173 - val_loss: 324.0206 - val_mean_absolute_error: 16.4737\n",
      "Epoch 41/100\n",
      "7/7 [==============================] - 0s 7ms/step - loss: 1001.0525 - mean_absolute_error: 26.7546 - val_loss: 303.6973 - val_mean_absolute_error: 15.8418\n",
      "Epoch 42/100\n",
      "7/7 [==============================] - 0s 7ms/step - loss: 1000.2705 - mean_absolute_error: 26.7433 - val_loss: 311.5628 - val_mean_absolute_error: 16.0923\n",
      "Epoch 43/100\n",
      "7/7 [==============================] - 0s 8ms/step - loss: 996.9563 - mean_absolute_error: 26.6901 - val_loss: 298.0470 - val_mean_absolute_error: 15.6674\n",
      "Epoch 44/100\n",
      "7/7 [==============================] - 0s 8ms/step - loss: 994.8378 - mean_absolute_error: 26.6620 - val_loss: 280.3131 - val_mean_absolute_error: 15.1373\n",
      "Epoch 45/100\n",
      "7/7 [==============================] - 0s 7ms/step - loss: 986.6847 - mean_absolute_error: 26.5427 - val_loss: 315.6881 - val_mean_absolute_error: 16.2476\n",
      "Epoch 46/100\n",
      "7/7 [==============================] - 0s 8ms/step - loss: 969.8120 - mean_absolute_error: 26.2990 - val_loss: 263.4850 - val_mean_absolute_error: 14.6288\n",
      "Epoch 47/100\n",
      "7/7 [==============================] - 0s 8ms/step - loss: 966.1819 - mean_absolute_error: 26.2606 - val_loss: 304.9795 - val_mean_absolute_error: 15.9274\n",
      "Epoch 48/100\n",
      "7/7 [==============================] - 0s 7ms/step - loss: 962.4866 - mean_absolute_error: 26.2356 - val_loss: 271.6698 - val_mean_absolute_error: 14.8987\n",
      "Epoch 49/100\n",
      "7/7 [==============================] - 0s 7ms/step - loss: 957.0853 - mean_absolute_error: 26.1675 - val_loss: 269.4248 - val_mean_absolute_error: 14.8326\n",
      "Epoch 50/100\n",
      "7/7 [==============================] - 0s 7ms/step - loss: 946.0103 - mean_absolute_error: 25.9942 - val_loss: 288.8936 - val_mean_absolute_error: 15.4317\n",
      "Epoch 51/100\n",
      "7/7 [==============================] - 0s 8ms/step - loss: 938.8307 - mean_absolute_error: 25.8923 - val_loss: 256.5778 - val_mean_absolute_error: 14.4430\n",
      "Epoch 52/100\n",
      "7/7 [==============================] - 0s 8ms/step - loss: 918.2687 - mean_absolute_error: 25.6169 - val_loss: 270.9993 - val_mean_absolute_error: 14.9213\n",
      "Epoch 53/100\n",
      "7/7 [==============================] - 0s 8ms/step - loss: 865.0358 - mean_absolute_error: 24.8715 - val_loss: 403.2712 - val_mean_absolute_error: 18.8627\n",
      "Epoch 54/100\n",
      "7/7 [==============================] - 0s 7ms/step - loss: 828.1013 - mean_absolute_error: 24.3312 - val_loss: 243.4252 - val_mean_absolute_error: 14.0846\n",
      "Epoch 55/100\n",
      "7/7 [==============================] - 0s 8ms/step - loss: 796.7349 - mean_absolute_error: 23.7985 - val_loss: 462.5165 - val_mean_absolute_error: 20.4412\n",
      "Epoch 56/100\n",
      "7/7 [==============================] - 0s 7ms/step - loss: 797.9392 - mean_absolute_error: 23.8731 - val_loss: 213.5507 - val_mean_absolute_error: 13.1179\n",
      "Epoch 57/100\n",
      "7/7 [==============================] - 0s 6ms/step - loss: 712.9100 - mean_absolute_error: 22.3899 - val_loss: 449.9629 - val_mean_absolute_error: 20.1890\n",
      "Epoch 58/100\n",
      "7/7 [==============================] - 0s 8ms/step - loss: 685.2661 - mean_absolute_error: 22.0402 - val_loss: 224.7323 - val_mean_absolute_error: 13.5598\n",
      "Epoch 59/100\n",
      "7/7 [==============================] - 0s 8ms/step - loss: 611.2327 - mean_absolute_error: 20.6722 - val_loss: 143.9365 - val_mean_absolute_error: 10.4383\n",
      "Epoch 60/100\n",
      "7/7 [==============================] - 0s 8ms/step - loss: 603.8335 - mean_absolute_error: 20.6888 - val_loss: 116.0291 - val_mean_absolute_error: 9.1176\n",
      "Epoch 61/100\n",
      "7/7 [==============================] - 0s 7ms/step - loss: 546.8564 - mean_absolute_error: 19.7183 - val_loss: 220.8658 - val_mean_absolute_error: 13.5025\n",
      "Epoch 62/100\n",
      "7/7 [==============================] - 0s 7ms/step - loss: 475.6713 - mean_absolute_error: 18.2492 - val_loss: 281.0693 - val_mean_absolute_error: 15.6634\n",
      "Epoch 63/100\n",
      "7/7 [==============================] - 0s 7ms/step - loss: 430.1447 - mean_absolute_error: 17.2304 - val_loss: 223.2313 - val_mean_absolute_error: 13.7096\n",
      "Epoch 64/100\n",
      "7/7 [==============================] - 0s 8ms/step - loss: 365.7914 - mean_absolute_error: 15.7433 - val_loss: 57.2879 - val_mean_absolute_error: 6.0636\n",
      "Epoch 65/100\n",
      "7/7 [==============================] - 0s 8ms/step - loss: 345.1236 - mean_absolute_error: 15.5370 - val_loss: 55.3571 - val_mean_absolute_error: 5.9371\n",
      "Epoch 66/100\n",
      "7/7 [==============================] - 0s 7ms/step - loss: 288.3553 - mean_absolute_error: 13.8747 - val_loss: 65.6119 - val_mean_absolute_error: 6.5995\n",
      "Epoch 67/100\n",
      "7/7 [==============================] - 0s 8ms/step - loss: 226.8487 - mean_absolute_error: 12.0963 - val_loss: 64.7645 - val_mean_absolute_error: 6.5850\n",
      "Epoch 68/100\n",
      "7/7 [==============================] - 0s 7ms/step - loss: 176.8403 - mean_absolute_error: 10.4314 - val_loss: 34.7449 - val_mean_absolute_error: 5.0680\n",
      "Epoch 69/100\n",
      "7/7 [==============================] - 0s 7ms/step - loss: 140.7007 - mean_absolute_error: 9.2219 - val_loss: 38.0871 - val_mean_absolute_error: 5.2344\n",
      "Epoch 70/100\n",
      "7/7 [==============================] - 0s 8ms/step - loss: 115.8624 - mean_absolute_error: 8.2704 - val_loss: 30.3928 - val_mean_absolute_error: 4.8868\n",
      "Epoch 71/100\n",
      "7/7 [==============================] - 0s 7ms/step - loss: 81.2038 - mean_absolute_error: 6.5072 - val_loss: 30.3141 - val_mean_absolute_error: 4.8748\n",
      "Epoch 72/100\n",
      "7/7 [==============================] - 0s 9ms/step - loss: 70.8620 - mean_absolute_error: 6.3038 - val_loss: 32.4742 - val_mean_absolute_error: 4.8324\n",
      "Epoch 73/100\n",
      "7/7 [==============================] - 0s 8ms/step - loss: 56.6053 - mean_absolute_error: 5.7638 - val_loss: 49.4063 - val_mean_absolute_error: 5.9431\n",
      "Epoch 74/100\n",
      "7/7 [==============================] - 0s 8ms/step - loss: 67.3039 - mean_absolute_error: 6.6998 - val_loss: 43.2079 - val_mean_absolute_error: 5.1911\n",
      "Epoch 75/100\n",
      "7/7 [==============================] - 0s 7ms/step - loss: 71.3628 - mean_absolute_error: 7.0276 - val_loss: 124.8850 - val_mean_absolute_error: 9.7356\n",
      "Epoch 76/100\n",
      "7/7 [==============================] - 0s 8ms/step - loss: 69.2979 - mean_absolute_error: 6.9754 - val_loss: 88.6868 - val_mean_absolute_error: 7.7556\n",
      "Epoch 77/100\n",
      "7/7 [==============================] - 0s 7ms/step - loss: 51.9517 - mean_absolute_error: 5.8473 - val_loss: 49.2558 - val_mean_absolute_error: 5.5267\n",
      "Epoch 78/100\n",
      "7/7 [==============================] - 0s 8ms/step - loss: 35.0036 - mean_absolute_error: 4.4611 - val_loss: 41.7062 - val_mean_absolute_error: 5.1503\n",
      "Epoch 79/100\n",
      "7/7 [==============================] - 0s 7ms/step - loss: 31.6750 - mean_absolute_error: 4.3597 - val_loss: 52.1274 - val_mean_absolute_error: 5.7103\n",
      "Epoch 80/100\n",
      "7/7 [==============================] - 0s 7ms/step - loss: 32.4524 - mean_absolute_error: 4.5160 - val_loss: 50.8571 - val_mean_absolute_error: 5.6720\n",
      "Epoch 81/100\n",
      "7/7 [==============================] - 0s 8ms/step - loss: 27.9395 - mean_absolute_error: 4.1549 - val_loss: 44.6001 - val_mean_absolute_error: 5.3477\n",
      "Epoch 82/100\n",
      "7/7 [==============================] - 0s 7ms/step - loss: 31.0271 - mean_absolute_error: 4.4018 - val_loss: 40.0258 - val_mean_absolute_error: 5.0793\n",
      "Epoch 83/100\n",
      "7/7 [==============================] - 0s 7ms/step - loss: 26.0360 - mean_absolute_error: 4.0197 - val_loss: 45.8919 - val_mean_absolute_error: 5.4509\n",
      "Epoch 84/100\n",
      "7/7 [==============================] - 0s 7ms/step - loss: 26.0646 - mean_absolute_error: 4.0186 - val_loss: 52.9020 - val_mean_absolute_error: 5.8147\n",
      "Epoch 85/100\n",
      "7/7 [==============================] - 0s 8ms/step - loss: 24.8404 - mean_absolute_error: 3.8924 - val_loss: 61.2499 - val_mean_absolute_error: 6.1759\n",
      "Epoch 86/100\n",
      "7/7 [==============================] - 0s 8ms/step - loss: 24.5273 - mean_absolute_error: 3.9507 - val_loss: 55.5068 - val_mean_absolute_error: 5.9457\n",
      "Epoch 87/100\n",
      "7/7 [==============================] - 0s 8ms/step - loss: 23.8016 - mean_absolute_error: 3.8531 - val_loss: 43.6868 - val_mean_absolute_error: 5.3416\n",
      "Epoch 88/100\n",
      "7/7 [==============================] - 0s 8ms/step - loss: 23.1496 - mean_absolute_error: 3.8139 - val_loss: 61.3221 - val_mean_absolute_error: 6.2162\n",
      "Epoch 89/100\n",
      "7/7 [==============================] - 0s 7ms/step - loss: 28.2743 - mean_absolute_error: 4.1504 - val_loss: 75.8424 - val_mean_absolute_error: 7.0434\n",
      "Epoch 90/100\n",
      "7/7 [==============================] - 0s 8ms/step - loss: 24.4130 - mean_absolute_error: 4.0461 - val_loss: 49.9435 - val_mean_absolute_error: 5.7045\n",
      "Epoch 91/100\n",
      "7/7 [==============================] - 0s 7ms/step - loss: 22.0771 - mean_absolute_error: 3.7266 - val_loss: 35.1433 - val_mean_absolute_error: 4.8263\n",
      "Epoch 92/100\n",
      "7/7 [==============================] - 0s 8ms/step - loss: 22.5732 - mean_absolute_error: 3.6812 - val_loss: 37.6938 - val_mean_absolute_error: 4.9370\n",
      "Epoch 93/100\n",
      "7/7 [==============================] - 0s 7ms/step - loss: 21.6458 - mean_absolute_error: 3.7439 - val_loss: 33.2534 - val_mean_absolute_error: 4.7816\n",
      "Epoch 94/100\n",
      "7/7 [==============================] - 0s 8ms/step - loss: 27.3832 - mean_absolute_error: 4.2953 - val_loss: 73.9310 - val_mean_absolute_error: 6.9231\n",
      "Epoch 95/100\n",
      "7/7 [==============================] - 0s 8ms/step - loss: 33.8069 - mean_absolute_error: 4.6519 - val_loss: 59.4930 - val_mean_absolute_error: 6.1568\n",
      "Epoch 96/100\n",
      "7/7 [==============================] - 0s 8ms/step - loss: 21.9657 - mean_absolute_error: 3.7112 - val_loss: 35.9874 - val_mean_absolute_error: 4.8452\n",
      "Epoch 97/100\n",
      "7/7 [==============================] - 0s 7ms/step - loss: 20.3232 - mean_absolute_error: 3.5241 - val_loss: 43.0837 - val_mean_absolute_error: 5.3166\n",
      "Epoch 98/100\n",
      "7/7 [==============================] - 0s 7ms/step - loss: 21.1557 - mean_absolute_error: 3.6529 - val_loss: 33.4452 - val_mean_absolute_error: 4.7756\n",
      "Epoch 99/100\n",
      "7/7 [==============================] - 0s 7ms/step - loss: 19.8385 - mean_absolute_error: 3.5272 - val_loss: 34.4051 - val_mean_absolute_error: 4.7941\n",
      "Epoch 100/100\n",
      "7/7 [==============================] - 0s 7ms/step - loss: 18.8897 - mean_absolute_error: 3.4683 - val_loss: 33.9622 - val_mean_absolute_error: 4.7837\n"
     ]
    },
    {
     "data": {
      "text/plain": [
       "<keras.callbacks.History at 0x203e8458b80>"
      ]
     },
     "execution_count": 20,
     "metadata": {},
     "output_type": "execute_result"
    }
   ],
   "source": [
    "from tensorflow.keras.models import Sequential\n",
    "from tensorflow.keras.optimizers import Adam\n",
    "from tensorflow.keras import layers\n",
    "\n",
    "model = Sequential([layers.Input((3, 1)),\n",
    "                   layers.LSTM(64),\n",
    "                   layers.Dense(32, activation='relu'),\n",
    "                   layers.Dense(32, activation='relu'),\n",
    "                   layers.Dense(1)])\n",
    "\n",
    "model.compile(loss='mse',\n",
    "             optimizer=Adam(learning_rate=0.001),\n",
    "             metrics=['mean_absolute_error'])\n",
    "\n",
    "model.fit(X_train, y_train, validation_data=(X_val, y_val), epochs=100)"
   ]
  },
  {
   "cell_type": "code",
   "execution_count": 21,
   "id": "b0873e05-a616-4169-aa86-10da73f0979b",
   "metadata": {},
   "outputs": [
    {
     "name": "stdout",
     "output_type": "stream",
     "text": [
      "7/7 [==============================] - 0s 3ms/step\n"
     ]
    },
    {
     "data": {
      "text/plain": [
       "<matplotlib.legend.Legend at 0x203ad504eb0>"
      ]
     },
     "execution_count": 21,
     "metadata": {},
     "output_type": "execute_result"
    },
    {
     "data": {
      "image/png": "[encoded data removed]",
      "text/plain": [
       "<Figure size 432x288 with 1 Axes>"
      ]
     },
     "metadata": {
      "needs_background": "light"
     },
     "output_type": "display_data"
    }
   ],
   "source": [
    "train_predictions = model.predict(X_train).flatten()\n",
    "\n",
    "plt.plot(dates_train, train_predictions)\n",
    "plt.plot(dates_train, y_train)\n",
    "plt.xticks(rotation=45)\n",
    "plt.legend(['Training Predictions', 'Training Observations'])"
   ]
  },
  {
   "cell_type": "code",
   "execution_count": 22,
   "id": "ee4ed167-106b-4524-b157-fa5c7954b6ca",
   "metadata": {},
   "outputs": [
    {
     "data": {
      "text/html": [
       "<div>\n",
       "<style scoped>\n",
       "    .dataframe tbody tr th:only-of-type {\n",
       "        vertical-align: middle;\n",
       "    }\n",
       "\n",
       "    .dataframe tbody tr th {\n",
       "        vertical-align: top;\n",
       "    }\n",
       "\n",
       "    .dataframe thead th {\n",
       "        text-align: right;\n",
       "    }\n",
       "</style>\n",
       "<table border=\"1\" class=\"dataframe\">\n",
       "  <thead>\n",
       "    <tr style=\"text-align: right;\">\n",
       "      <th></th>\n",
       "      <th>Date</th>\n",
       "      <th>Target(Close)</th>\n",
       "      <th>Prediction</th>\n",
       "    </tr>\n",
       "  </thead>\n",
       "  <tbody>\n",
       "    <tr>\n",
       "      <th>0</th>\n",
       "      <td>2021-03-25</td>\n",
       "      <td>232.339996</td>\n",
       "      <td>235.952271</td>\n",
       "    </tr>\n",
       "    <tr>\n",
       "      <th>1</th>\n",
       "      <td>2021-03-26</td>\n",
       "      <td>236.479996</td>\n",
       "      <td>233.585144</td>\n",
       "    </tr>\n",
       "    <tr>\n",
       "      <th>2</th>\n",
       "      <td>2021-03-29</td>\n",
       "      <td>235.240005</td>\n",
       "      <td>235.158615</td>\n",
       "    </tr>\n",
       "    <tr>\n",
       "      <th>3</th>\n",
       "      <td>2021-03-30</td>\n",
       "      <td>231.850006</td>\n",
       "      <td>235.457413</td>\n",
       "    </tr>\n",
       "    <tr>\n",
       "      <th>4</th>\n",
       "      <td>2021-03-31</td>\n",
       "      <td>235.770004</td>\n",
       "      <td>233.222656</td>\n",
       "    </tr>\n",
       "    <tr>\n",
       "      <th>...</th>\n",
       "      <td>...</td>\n",
       "      <td>...</td>\n",
       "      <td>...</td>\n",
       "    </tr>\n",
       "    <tr>\n",
       "      <th>196</th>\n",
       "      <td>2022-01-03</td>\n",
       "      <td>334.750000</td>\n",
       "      <td>331.696014</td>\n",
       "    </tr>\n",
       "    <tr>\n",
       "      <th>197</th>\n",
       "      <td>2022-01-04</td>\n",
       "      <td>329.010010</td>\n",
       "      <td>330.409454</td>\n",
       "    </tr>\n",
       "    <tr>\n",
       "      <th>198</th>\n",
       "      <td>2022-01-05</td>\n",
       "      <td>316.380005</td>\n",
       "      <td>327.248810</td>\n",
       "    </tr>\n",
       "    <tr>\n",
       "      <th>199</th>\n",
       "      <td>2022-01-06</td>\n",
       "      <td>313.880005</td>\n",
       "      <td>319.120514</td>\n",
       "    </tr>\n",
       "    <tr>\n",
       "      <th>200</th>\n",
       "      <td>2022-01-07</td>\n",
       "      <td>314.040009</td>\n",
       "      <td>314.395447</td>\n",
       "    </tr>\n",
       "  </tbody>\n",
       "</table>\n",
       "<p>201 rows × 3 columns</p>\n",
       "</div>"
      ],
      "text/plain": [
       "          Date  Target(Close)  Prediction\n",
       "0   2021-03-25     232.339996  235.952271\n",
       "1   2021-03-26     236.479996  233.585144\n",
       "2   2021-03-29     235.240005  235.158615\n",
       "3   2021-03-30     231.850006  235.457413\n",
       "4   2021-03-31     235.770004  233.222656\n",
       "..         ...            ...         ...\n",
       "196 2022-01-03     334.750000  331.696014\n",
       "197 2022-01-04     329.010010  330.409454\n",
       "198 2022-01-05     316.380005  327.248810\n",
       "199 2022-01-06     313.880005  319.120514\n",
       "200 2022-01-07     314.040009  314.395447\n",
       "\n",
       "[201 rows x 3 columns]"
      ]
     },
     "execution_count": 22,
     "metadata": {},
     "output_type": "execute_result"
    }
   ],
   "source": [
    "pd.DataFrame({'Date':dates[:q_80], 'Target(Close)':y_train,'Prediction':train_predictions})"
   ]
  },
  {
   "cell_type": "code",
   "execution_count": 23,
   "id": "0cd3f3dc-85cf-4389-a4e0-253b4d854215",
   "metadata": {},
   "outputs": [
    {
     "name": "stdout",
     "output_type": "stream",
     "text": [
      "1/1 [==============================] - 0s 16ms/step\n"
     ]
    },
    {
     "data": {
      "text/plain": [
       "<matplotlib.legend.Legend at 0x203e71e63d0>"
      ]
     },
     "execution_count": 23,
     "metadata": {},
     "output_type": "execute_result"
    },
    {
     "data": {
      "image/png": "[encoded data removed]",
      "text/plain": [
       "<Figure size 432x288 with 1 Axes>"
      ]
     },
     "metadata": {
      "needs_background": "light"
     },
     "output_type": "display_data"
    }
   ],
   "source": [
    "val_predictions = model.predict(X_val).flatten()\n",
    "\n",
    "plt.plot(dates_val, val_predictions)\n",
    "plt.plot(dates_val, y_val)\n",
    "plt.xticks(rotation=45)\n",
    "plt.legend(['Validation Predictions', 'Validation Observations'])"
   ]
  },
  {
   "cell_type": "code",
   "execution_count": 24,
   "id": "db1a0911-20ea-4218-9de6-016c7b17447c",
   "metadata": {},
   "outputs": [
    {
     "name": "stdout",
     "output_type": "stream",
     "text": [
      "1/1 [==============================] - 0s 16ms/step\n"
     ]
    },
    {
     "data": {
      "text/plain": [
       "<matplotlib.legend.Legend at 0x203ecaea520>"
      ]
     },
     "execution_count": 24,
     "metadata": {},
     "output_type": "execute_result"
    },
    {
     "data": {
      "image/png": "[encoded data removed]",
      "text/plain": [
       "<Figure size 432x288 with 1 Axes>"
      ]
     },
     "metadata": {
      "needs_background": "light"
     },
     "output_type": "display_data"
    }
   ],
   "source": [
    "test_predictions = model.predict(X_test).flatten()\n",
    "\n",
    "plt.plot(dates_test, test_predictions)\n",
    "plt.plot(dates_test, y_test)\n",
    "plt.xticks(rotation=45)\n",
    "plt.legend(['Testing Predictions','Testing Observations'])"
   ]
  },
  {
   "cell_type": "code",
   "execution_count": 25,
   "id": "28d5987f-c4f6-4652-a1d0-3f1e374eff54",
   "metadata": {},
   "outputs": [
    {
     "data": {
      "text/plain": [
       "<matplotlib.legend.Legend at 0x203c57e4610>"
      ]
     },
     "execution_count": 25,
     "metadata": {},
     "output_type": "execute_result"
    },
    {
     "data": {
      "image/png": "[encoded data removed]",
      "text/plain": [
       "<Figure size 432x288 with 1 Axes>"
      ]
     },
     "metadata": {
      "needs_background": "light"
     },
     "output_type": "display_data"
    }
   ],
   "source": [
    "plt.plot(dates_train, train_predictions)\n",
    "plt.plot(dates_train, y_train)\n",
    "plt.plot(dates_val, val_predictions)\n",
    "plt.plot(dates_val, y_val)\n",
    "plt.plot(dates_test, test_predictions)\n",
    "plt.plot(dates_test, y_test)\n",
    "plt.legend(['Training Predictions',\n",
    "           'Training Observations',\n",
    "           'Validation Predictions',\n",
    "           'Validation Observations',\n",
    "           'Testing Predictions',\n",
    "           'Testing Observations'])"
   ]
  },
  {
   "cell_type": "code",
   "execution_count": 26,
   "id": "e1c49ce2-e3aa-4026-a157-13a8aa3493b1",
   "metadata": {},
   "outputs": [],
   "source": [
    "from copy import deepcopy"
   ]
  },
  {
   "cell_type": "code",
   "execution_count": 27,
   "id": "17aa69c8-ddd6-4639-b9c0-f4f0f993d88e",
   "metadata": {},
   "outputs": [
    {
     "name": "stdout",
     "output_type": "stream",
     "text": [
      "1/1 [==============================] - 0s 24ms/step\n",
      "1/1 [==============================] - 0s 16ms/step\n",
      "1/1 [==============================] - 0s 16ms/step\n",
      "1/1 [==============================] - 0s 16ms/step\n",
      "1/1 [==============================] - 0s 16ms/step\n",
      "1/1 [==============================] - 0s 16ms/step\n",
      "1/1 [==============================] - 0s 24ms/step\n",
      "1/1 [==============================] - 0s 24ms/step\n",
      "1/1 [==============================] - 0s 21ms/step\n",
      "1/1 [==============================] - 0s 16ms/step\n",
      "1/1 [==============================] - 0s 20ms/step\n",
      "1/1 [==============================] - 0s 16ms/step\n",
      "1/1 [==============================] - 0s 16ms/step\n",
      "1/1 [==============================] - 0s 16ms/step\n",
      "1/1 [==============================] - 0s 21ms/step\n",
      "1/1 [==============================] - 0s 16ms/step\n",
      "1/1 [==============================] - 0s 16ms/step\n",
      "1/1 [==============================] - 0s 24ms/step\n",
      "1/1 [==============================] - 0s 13ms/step\n",
      "1/1 [==============================] - 0s 25ms/step\n",
      "1/1 [==============================] - 0s 16ms/step\n",
      "1/1 [==============================] - 0s 16ms/step\n",
      "1/1 [==============================] - 0s 16ms/step\n",
      "1/1 [==============================] - 0s 16ms/step\n",
      "1/1 [==============================] - 0s 24ms/step\n",
      "1/1 [==============================] - 0s 16ms/step\n",
      "1/1 [==============================] - 0s 24ms/step\n",
      "1/1 [==============================] - 0s 16ms/step\n",
      "1/1 [==============================] - 0s 16ms/step\n",
      "1/1 [==============================] - 0s 16ms/step\n",
      "1/1 [==============================] - 0s 16ms/step\n",
      "1/1 [==============================] - 0s 24ms/step\n",
      "1/1 [==============================] - 0s 16ms/step\n",
      "1/1 [==============================] - 0s 16ms/step\n",
      "1/1 [==============================] - 0s 16ms/step\n",
      "1/1 [==============================] - 0s 16ms/step\n",
      "1/1 [==============================] - 0s 16ms/step\n",
      "1/1 [==============================] - 0s 24ms/step\n",
      "1/1 [==============================] - 0s 16ms/step\n",
      "1/1 [==============================] - 0s 16ms/step\n",
      "1/1 [==============================] - 0s 16ms/step\n",
      "1/1 [==============================] - 0s 16ms/step\n",
      "1/1 [==============================] - 0s 24ms/step\n",
      "1/1 [==============================] - 0s 24ms/step\n",
      "1/1 [==============================] - 0s 16ms/step\n",
      "1/1 [==============================] - 0s 16ms/step\n",
      "1/1 [==============================] - 0s 16ms/step\n",
      "1/1 [==============================] - 0s 16ms/step\n",
      "1/1 [==============================] - 0s 16ms/step\n",
      "1/1 [==============================] - 0s 24ms/step\n",
      "1/1 [==============================] - 0s 16ms/step\n"
     ]
    }
   ],
   "source": [
    "recursive_predictions = []\n",
    "recursive_dates = np.concatenate([dates_val, dates_test])\n",
    "\n",
    "for target_date in recursive_dates:\n",
    "    last_window = deepcopy(X_train[-1])\n",
    "    next_prediction = model.predict(np.array([last_window])).flatten()\n",
    "    recursive_predictions.append(next_prediction)\n",
    "    last_window[-1] = next_prediction"
   ]
  },
  {
   "cell_type": "code",
   "execution_count": 28,
   "id": "67a892ca-5ed2-48aa-8a07-1a8e56754553",
   "metadata": {},
   "outputs": [
    {
     "data": {
      "text/plain": [
       "<matplotlib.legend.Legend at 0x203ecc27250>"
      ]
     },
     "execution_count": 28,
     "metadata": {},
     "output_type": "execute_result"
    },
    {
     "data": {
      "image/png": "[encoded data removed]",
      "text/plain": [
       "<Figure size 432x288 with 1 Axes>"
      ]
     },
     "metadata": {
      "needs_background": "light"
     },
     "output_type": "display_data"
    }
   ],
   "source": [
    "plt.plot(dates_train, train_predictions)\n",
    "plt.plot(dates_train, y_train)\n",
    "plt.plot(dates_val, val_predictions)\n",
    "plt.plot(dates_val, y_val)\n",
    "plt.plot(dates_test, test_predictions)\n",
    "plt.plot(dates_test, y_test)\n",
    "plt.plot(recursive_dates, recursive_predictions)\n",
    "plt.legend(['Training Predictions',\n",
    "           'Training Observations',\n",
    "           'Validation Predictions',\n",
    "           'Validation Observations',\n",
    "           'Testing Predictions',\n",
    "           'Testing Observations',\n",
    "           'Recursive Predictions'])"
   ]
  },
  {
   "cell_type": "code",
   "execution_count": null,
   "id": "18db49b8-cc53-4ac7-bd71-355daddc8c5e",
   "metadata": {},
   "outputs": [],
   "source": []
  }
 ],
 "metadata": {
  "kernelspec": {
   "display_name": "Python 3 (ipykernel)",
   "language": "python",
   "name": "python3"
  },
  "language_info": {
   "codemirror_mode": {
    "name": "ipython",
    "version": 3
   },
   "file_extension": ".py",
   "mimetype": "text/x-python",
   "name": "python",
   "nbconvert_exporter": "python",
   "pygments_lexer": "ipython3",
   "version": "3.9.13"
  }
 },
 "nbformat": 4,
 "nbformat_minor": 5
}
